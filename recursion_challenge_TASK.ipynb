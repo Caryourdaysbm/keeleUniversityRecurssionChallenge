{
  "cells": [
    {
      "cell_type": "markdown",
      "metadata": {
        "id": "view-in-github",
        "colab_type": "text"
      },
      "source": [
        "<a href=\"https://colab.research.google.com/github/Caryourdaysbm/keeleUniversityRecurssionChallenge/blob/main/recursion_challenge_TASK.ipynb\" target=\"_parent\"><img src=\"https://colab.research.google.com/assets/colab-badge.svg\" alt=\"Open In Colab\"/></a>"
      ]
    },
    {
      "cell_type": "code",
      "execution_count": null,
      "metadata": {
        "id": "t1EyM1dBKLTA",
        "outputId": "954e5c96-f355-4553-f990-51d5e4842cc1"
      },
      "outputs": [
        {
          "name": "stdout",
          "output_type": "stream",
          "text": [
            "3\n",
            "2\n",
            "1\n",
            "Blastoff!\n"
          ]
        }
      ],
      "source": [
        "'''\n",
        "The classic version using a loop to iterate over the decrementing numbers\n",
        "'''\n",
        "\n",
        "def countdown(n):\n",
        "    while n > 0:\n",
        "        print(n)\n",
        "        n -= 1\n",
        "    print('Blastoff!')\n",
        "\n",
        "n = 3\n",
        "countdown(n)\n"
      ]
    },
    {
      "cell_type": "code",
      "execution_count": 9,
      "metadata": {
        "colab": {
          "base_uri": "https://localhost:8080/"
        },
        "id": "c7cuTv0QKLTD",
        "outputId": "ea96e518-24bd-4471-fdc1-6a12629a3d45"
      },
      "outputs": [
        {
          "output_type": "stream",
          "name": "stdout",
          "text": [
            "4\n",
            "3\n",
            "2\n",
            "1\n",
            "Blastoff!\n"
          ]
        }
      ],
      "source": [
        "'''\n",
        "The challenge.\n",
        "Can you rewrite the classic iteration to a recursive solution?\n",
        "'''\n",
        "def countdown(n):\n",
        "  if n <= 0:\n",
        "    print('Blastoff!')\n",
        "  else:\n",
        "    print(n)\n",
        "    countdown(n-1)\n",
        "\n",
        "n = 4\n",
        "countdown(n)"
      ]
    },
    {
      "cell_type": "code",
      "source": [],
      "metadata": {
        "id": "pvcliIf_KY1v"
      },
      "execution_count": null,
      "outputs": []
    }
  ],
  "metadata": {
    "kernelspec": {
      "display_name": "Python 3",
      "language": "python",
      "name": "python3"
    },
    "language_info": {
      "codemirror_mode": {
        "name": "ipython",
        "version": 3
      },
      "file_extension": ".py",
      "mimetype": "text/x-python",
      "name": "python",
      "nbconvert_exporter": "python",
      "pygments_lexer": "ipython3",
      "version": "3.10.5"
    },
    "orig_nbformat": 4,
    "colab": {
      "provenance": [],
      "include_colab_link": true
    }
  },
  "nbformat": 4,
  "nbformat_minor": 0
}